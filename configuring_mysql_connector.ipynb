{
 "cells": [
  {
   "cell_type": "code",
   "execution_count": 14,
   "id": "f63db7af-00c0-4fca-a4da-13e0ee1d448f",
   "metadata": {},
   "outputs": [
    {
     "name": "stdout",
     "output_type": "stream",
     "text": [
      "Requirement already satisfied: mysql-connector-python in ./.pyenv/versions/3.11.3/lib/python3.11/site-packages (8.1.0)\n",
      "Requirement already satisfied: protobuf<=4.21.12,>=4.21.1 in ./.pyenv/versions/3.11.3/lib/python3.11/site-packages (from mysql-connector-python) (4.21.12)\n"
     ]
    }
   ],
   "source": [
    "!pip install mysql-connector-python"
   ]
  },
  {
   "cell_type": "code",
   "execution_count": 23,
   "id": "b4bd835a-35e2-4351-ad8e-a5dee1054a0a",
   "metadata": {},
   "outputs": [],
   "source": [
    "import mysql.connector as connector"
   ]
  },
  {
   "cell_type": "code",
   "execution_count": 24,
   "id": "81eeb452-b249-4d01-ba66-c5f0a8fb0f77",
   "metadata": {},
   "outputs": [],
   "source": [
    "connection = connector.connect(user=\"littlelemon1\", password=\"littlelemon1\", db=\"LittleLemonDB\")\n",
    "cursor = connection.cursor()"
   ]
  },
  {
   "cell_type": "code",
   "execution_count": 25,
   "id": "710a8ebe-2a3a-443b-87d1-0d4dab79fe02",
   "metadata": {},
   "outputs": [],
   "source": [
    "show_tables_query = \"SHOW tables\"\n",
    "cursor.execute(show_tables_query)"
   ]
  },
  {
   "cell_type": "code",
   "execution_count": 26,
   "id": "7b559783-6eac-4663-8262-7682fa212523",
   "metadata": {},
   "outputs": [
    {
     "name": "stdout",
     "output_type": "stream",
     "text": [
      "[('address',), ('bookings',), ('customers',), ('delivery_status',), ('menu',), ('menu_items',), ('orders',), ('staff',)]\n"
     ]
    }
   ],
   "source": [
    "results = cursor.fetchall()\n",
    "print(results)"
   ]
  },
  {
   "cell_type": "code",
   "execution_count": 27,
   "id": "234fc944-3be9-4468-b51c-64c96ef6134e",
   "metadata": {},
   "outputs": [
    {
     "name": "stdout",
     "output_type": "stream",
     "text": [
      "[('First', 'Customer')]\n"
     ]
    }
   ],
   "source": [
    "customers_query = \"SELECT first_name, last_name FROM customers INNER JOIN orders ON customers.customer_id = orders.customer_id\"\n",
    "cursor.execute(customers_query)\n",
    "results = cursor.fetchall()\n",
    "print(results)"
   ]
  },
  {
   "cell_type": "code",
   "execution_count": null,
   "id": "e76068b0-c160-4af6-8072-b2b9af7a86fe",
   "metadata": {},
   "outputs": [],
   "source": []
  }
 ],
 "metadata": {
  "kernelspec": {
   "display_name": "Python 3 (ipykernel)",
   "language": "python",
   "name": "python3"
  },
  "language_info": {
   "codemirror_mode": {
    "name": "ipython",
    "version": 3
   },
   "file_extension": ".py",
   "mimetype": "text/x-python",
   "name": "python",
   "nbconvert_exporter": "python",
   "pygments_lexer": "ipython3",
   "version": "3.11.3"
  }
 },
 "nbformat": 4,
 "nbformat_minor": 5
}
